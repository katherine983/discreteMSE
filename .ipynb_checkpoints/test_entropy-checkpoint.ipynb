{
 "cells": [
  {
   "cell_type": "markdown",
   "id": "666b45c4",
   "metadata": {},
   "source": [
    "# Demo of Discrete ApEn and SampEn Algorithms  \n",
    "The following notebook demonstrates the implementations of Approximate Entropy and Sample Entropy in the discreteMSE package. These implementations are specific for use on discrete valued time series where the filter parameter, r, is suppressed and only exact vector matches are counted. The theory and exact implementation of this is explained below."
   ]
  },
  {
   "cell_type": "markdown",
   "id": "158a4b86",
   "metadata": {},
   "source": [
    "## Theory of Approximate Entropy  \n",
    "Approximate Entropy (ApEn) was proposed by Pincus [1] to address the issue of estimating the conditional entropy of finite “real-world” sample sequences. It takes two parameters, *m* and *r*, and works as follows:  "
   ]
  },
  {
   "cell_type": "code",
   "execution_count": 1,
   "id": "f52dab3b",
   "metadata": {},
   "outputs": [],
   "source": [
    "import numpy as np"
   ]
  },
  {
   "cell_type": "markdown",
   "id": "d99d8787",
   "metadata": {},
   "source": [
    "Given a time series sequence *X* of *N* data points, and using a sliding window of size *m*;  \n",
    "1. Generate a set of *N-m-1* vectors of *m* sequential data points from *X*.  \n",
    "\n",
    "    - Ex. If *X* = \\[1, 1, 1, 3, 1, 2, 2, 3, 1, 2\\], and *m* = 2,  then the set of *m*-vectors should be  \n",
    "    \\[\\[1, 1\\], \\[1, 1\\], \\[1, 3\\], \\[3, 1\\], \\[1, 2\\], \\[2, 2\\], \\[2, 3\\], \\[3, 1\\]\\].  \n",
    "    - Note the m-length vector at index *N-m* is typically excluded here so as to make a mathematical and algorithmic simplification later. \n",
    "2. For each vector, $x_m(i)$, in the set, calculate the Chebyshev (maximum elementwise) distance from each of the vectors, $x_m(j), 1 \\leq j \\leq$ *N-m*, in the set.  \n",
    "    - Ex. Continuing the example above, with i=1, $x_m(1)$ = \\[1, 1\\] and the max distance, $d[x_m(1), x_m(j)]$ for each $x_m(j), 1\\leq j\\leq N-m$ is given by $max(|x_m(1+k) - x_m(j+k)|), for 0\\leq k\\leq m$ and listed here:  \n",
    "    \\[0, 0, 2, 2, 1, 1, 2, 2\\]  \n",
    "    Note that the ApEn algorithm includes the distance between *x(i)* and itself.\n",
    "3. Let $B_i$ equal the number of vectors, $x_m(j)$, whose Chebyshev distance from *x(i)* is less than or equal to the parameter *r*. (*r* is called the filter or tolerance parameter because it defines the tolerance within which two vectors may be considered matching.)\n",
    "    - Ex. For the above, for *r*=1, and at i=1, $B_i = 4$\n",
    "4. Repeat steps 1 and 2, except instead of the set of *m*-length vectors, use the set of *N-m* vectors of *m*+1 sequential data points.\n",
    "    - Ex. The set of *N-m* *m*+1-length vectors in *X* should be  \n",
    "    \\[[1, 1, 1], [1, 1, 3], [1, 3, 1], [3, 1, 2], [1, 2, 2], [2, 2, 3], [2, 3, 1], [3, 1, 2]\\]\n",
    "5. For each *v(i)* in the set of *m*+1 length vectors, let A_i equal the number of *m*+1 vectors, *v(j)*, whose Chebyshev distance from *v(i)* is less than or equal to *r*. \n",
    "    - Ex. For i=1, $A_i = "
   ]
  },
  {
   "cell_type": "code",
   "execution_count": 44,
   "id": "d836636e",
   "metadata": {},
   "outputs": [],
   "source": [
    "#data = np.array([6, 1, 6, 8, 7, 2, 2, 7, 5, 2, 5, 5, 4, 5, 5, 6, 6, 1, 1, 1])\n",
    "#X = np.array([1, 1, 1, 3, 1, 2, 2, 3, 1, 2])\n",
    "X = np.array([2.3, 5.7, 4.0, 3.7, 2.8, 4.9, 3.4, 5.9, 3.1, 3.3, 2.9, 4.1])\n",
    "m=2\n",
    "r=0.2\n",
    "N=len(X)"
   ]
  },
  {
   "cell_type": "code",
   "execution_count": null,
   "id": "a8ea8498",
   "metadata": {},
   "outputs": [],
   "source": [
    "np.rand"
   ]
  },
  {
   "cell_type": "markdown",
   "id": "80b75f6f",
   "metadata": {},
   "source": [
    "ApEn is not intended to be an estimate of the true entropy rate or K-S entropy of a sequence but rather Pincus asserts it should be regarded as a family of sequence regularity statistics [1], [2]. While the Shannon entropy rate and K-S entropy are designed to estimate the average rate of information gain as $N\\rightarrow\\infty$, ApEn was designed to be used to study the evolution of a system’s complexity over time [2] and compare the irregularity of finite, short sequences (*N*=1000). For ApEn to be valid, Pincus and Goldberger recommend data with at least $N=10m$  data points. However, ApEn is biased for shorter sequences because it includes self-counting when tabulating vector matches. Sample Entropy (SampEn) rectifies this bias. "
   ]
  },
  {
   "cell_type": "code",
   "execution_count": 17,
   "id": "623de424",
   "metadata": {
    "scrolled": true
   },
   "outputs": [],
   "source": [
    "\n",
    "from discreteMSE.entropy import apen, sampen, vector_matches"
   ]
  },
  {
   "cell_type": "code",
   "execution_count": 37,
   "id": "304edefc",
   "metadata": {},
   "outputs": [
    {
     "name": "stdout",
     "output_type": "stream",
     "text": [
      "[[1 1]\n",
      " [1 1]\n",
      " [1 3]\n",
      " [3 1]\n",
      " [1 2]\n",
      " [2 2]\n",
      " [2 3]\n",
      " [3 1]\n",
      " [1 2]]\n",
      "---------\n",
      "[[[0 0]\n",
      "  [0 0]\n",
      "  [0 1]\n",
      "  [1 0]\n",
      "  [0 1]\n",
      "  [1 1]\n",
      "  [1 1]\n",
      "  [1 0]\n",
      "  [0 1]]\n",
      "\n",
      " [[0 0]\n",
      "  [0 0]\n",
      "  [0 1]\n",
      "  [1 0]\n",
      "  [0 1]\n",
      "  [1 1]\n",
      "  [1 1]\n",
      "  [1 0]\n",
      "  [0 1]]\n",
      "\n",
      " [[0 1]\n",
      "  [0 1]\n",
      "  [0 0]\n",
      "  [1 1]\n",
      "  [0 1]\n",
      "  [1 1]\n",
      "  [1 0]\n",
      "  [1 1]\n",
      "  [0 1]]\n",
      "\n",
      " [[1 0]\n",
      "  [1 0]\n",
      "  [1 1]\n",
      "  [0 0]\n",
      "  [1 1]\n",
      "  [1 1]\n",
      "  [1 1]\n",
      "  [0 0]\n",
      "  [1 1]]\n",
      "\n",
      " [[0 1]\n",
      "  [0 1]\n",
      "  [0 1]\n",
      "  [1 1]\n",
      "  [0 0]\n",
      "  [1 0]\n",
      "  [1 1]\n",
      "  [1 1]\n",
      "  [0 0]]\n",
      "\n",
      " [[1 1]\n",
      "  [1 1]\n",
      "  [1 1]\n",
      "  [1 1]\n",
      "  [1 0]\n",
      "  [0 0]\n",
      "  [0 1]\n",
      "  [1 1]\n",
      "  [1 0]]\n",
      "\n",
      " [[1 1]\n",
      "  [1 1]\n",
      "  [1 0]\n",
      "  [1 1]\n",
      "  [1 1]\n",
      "  [0 1]\n",
      "  [0 0]\n",
      "  [1 1]\n",
      "  [1 1]]\n",
      "\n",
      " [[1 0]\n",
      "  [1 0]\n",
      "  [1 1]\n",
      "  [0 0]\n",
      "  [1 1]\n",
      "  [1 1]\n",
      "  [1 1]\n",
      "  [0 0]\n",
      "  [1 1]]\n",
      "\n",
      " [[0 1]\n",
      "  [0 1]\n",
      "  [0 1]\n",
      "  [1 1]\n",
      "  [0 0]\n",
      "  [1 0]\n",
      "  [1 1]\n",
      "  [1 1]\n",
      "  [0 0]]]\n",
      "[[0 0 1 1 1 2 2 1 1]\n",
      " [0 0 1 1 1 2 2 1 1]\n",
      " [1 1 0 2 1 2 1 2 1]\n",
      " [1 1 2 0 2 2 2 0 2]\n",
      " [1 1 1 2 0 1 2 2 0]\n",
      " [2 2 2 2 1 0 1 2 1]\n",
      " [2 2 1 2 2 1 0 2 2]\n",
      " [1 1 2 0 2 2 2 0 2]\n",
      " [1 1 1 2 0 1 2 2 0]]\n"
     ]
    }
   ],
   "source": [
    "xmi = np.array([data[i:i+m] for i in range(len(data)-m+1)])\n",
    "z = len(xmi)\n",
    "print(xmi)\n",
    "print('---------')\n",
    "#create 3d array of xmi vectors where each xi in xmi is its own 1xm subarray\n",
    "xi_matrix = np.stack([xmi], axis=2).reshape((z,1,m))\n",
    "\n",
    "#dif is a 3D array containing the pairwise kronecker delta between xi and xmi for all xi.\n",
    "dif = np.invert(xi_matrix==xmi).astype(int)\n",
    "print(dif)\n",
    "#dif.sum(axis=2) evaluates to 0 for xi that fully matched and >0 for xi that did not fully match\n",
    "sim_dist = dif.sum(axis=2)\n",
    "print(sim_dist)"
   ]
  },
  {
   "cell_type": "code",
   "execution_count": 54,
   "id": "2ad1a78d",
   "metadata": {},
   "outputs": [
    {
     "data": {
      "text/plain": [
       "4"
      ]
     },
     "execution_count": 54,
     "metadata": {},
     "output_type": "execute_result"
    }
   ],
   "source": [
    "np.sum(sim_dist[:-1,:]==0) - z"
   ]
  },
  {
   "cell_type": "code",
   "execution_count": 38,
   "id": "921f6046",
   "metadata": {},
   "outputs": [
    {
     "name": "stdout",
     "output_type": "stream",
     "text": [
      "N-m 8\n",
      "Bi 8 Ai 8\n",
      "True\n"
     ]
    }
   ],
   "source": [
    "N = len(data)\n",
    "Bi = vector_matches(data[:-1], m, enttype='apen')\n",
    "k=m+1\n",
    "Ai = vector_matches(data, k, enttype='apen')\n",
    "print('N-m', N-m)\n",
    "print('Bi', len(Bi), 'Ai', len(Ai))\n",
    "print(Bi.shape == Ai.shape)\n",
    "apen = np.sum(np.negative(np.log(Ai/Bi)))/(N-m)"
   ]
  },
  {
   "cell_type": "code",
   "execution_count": 40,
   "id": "45f7d08e",
   "metadata": {},
   "outputs": [
    {
     "data": {
      "text/plain": [
       "array([2, 2, 1, 2, 1, 1, 1, 2])"
      ]
     },
     "execution_count": 40,
     "metadata": {},
     "output_type": "execute_result"
    }
   ],
   "source": [
    "Bi"
   ]
  },
  {
   "cell_type": "code",
   "execution_count": 39,
   "id": "bc210613",
   "metadata": {},
   "outputs": [
    {
     "data": {
      "text/plain": [
       "array([1, 1, 1, 2, 1, 1, 1, 2])"
      ]
     },
     "execution_count": 39,
     "metadata": {},
     "output_type": "execute_result"
    }
   ],
   "source": [
    "Ai"
   ]
  },
  {
   "cell_type": "code",
   "execution_count": 41,
   "id": "456d3f11",
   "metadata": {},
   "outputs": [
    {
     "data": {
      "text/plain": [
       "array([0.5, 0.5, 1. , 1. , 1. , 1. , 1. , 1. ])"
      ]
     },
     "execution_count": 41,
     "metadata": {},
     "output_type": "execute_result"
    }
   ],
   "source": [
    "Ai/Bi"
   ]
  },
  {
   "cell_type": "code",
   "execution_count": 42,
   "id": "ddcd9db4",
   "metadata": {},
   "outputs": [
    {
     "data": {
      "text/plain": [
       "array([-0.69314718, -0.69314718,  0.        ,  0.        ,  0.        ,\n",
       "        0.        ,  0.        ,  0.        ])"
      ]
     },
     "execution_count": 42,
     "metadata": {},
     "output_type": "execute_result"
    }
   ],
   "source": [
    "np.log(Ai/Bi)"
   ]
  },
  {
   "cell_type": "code",
   "execution_count": 43,
   "id": "115faab6",
   "metadata": {},
   "outputs": [
    {
     "data": {
      "text/plain": [
       "1.3862943611198906"
      ]
     },
     "execution_count": 43,
     "metadata": {},
     "output_type": "execute_result"
    }
   ],
   "source": [
    "np.sum(np.negative(np.log(Ai/Bi)))"
   ]
  },
  {
   "cell_type": "code",
   "execution_count": 45,
   "id": "c4f43b54",
   "metadata": {},
   "outputs": [
    {
     "data": {
      "text/plain": [
       "0.17328679513998632"
      ]
     },
     "execution_count": 45,
     "metadata": {},
     "output_type": "execute_result"
    }
   ],
   "source": [
    "np.sum(np.negative(np.log(Ai/Bi)))/(N-m)"
   ]
  },
  {
   "cell_type": "code",
   "execution_count": 46,
   "id": "bd2f5bdc",
   "metadata": {
    "scrolled": true
   },
   "outputs": [
    {
     "data": {
      "text/plain": [
       "0.17328679513998632"
      ]
     },
     "execution_count": 46,
     "metadata": {},
     "output_type": "execute_result"
    }
   ],
   "source": [
    "apen"
   ]
  },
  {
   "cell_type": "code",
   "execution_count": 51,
   "id": "8ab8f00e",
   "metadata": {},
   "outputs": [],
   "source": [
    "B = vector_matches(data[:-1], m, enttype='sampen')\n",
    "#print(B)\n",
    "\n",
    "#get number of matches, store in variable 'A'\n",
    "k = m+1\n",
    "A = vector_matches(data, k, enttype='sampen')"
   ]
  },
  {
   "cell_type": "code",
   "execution_count": 52,
   "id": "81786d64",
   "metadata": {
    "scrolled": true
   },
   "outputs": [
    {
     "data": {
      "text/plain": [
       "4"
      ]
     },
     "execution_count": 52,
     "metadata": {},
     "output_type": "execute_result"
    }
   ],
   "source": [
    "B"
   ]
  },
  {
   "cell_type": "code",
   "execution_count": 53,
   "id": "9f0cb1c0",
   "metadata": {},
   "outputs": [
    {
     "data": {
      "text/plain": [
       "2"
      ]
     },
     "execution_count": 53,
     "metadata": {},
     "output_type": "execute_result"
    }
   ],
   "source": [
    "A"
   ]
  },
  {
   "cell_type": "markdown",
   "id": "416f7b43",
   "metadata": {},
   "source": [
    "## References"
   ]
  },
  {
   "cell_type": "markdown",
   "id": "836db1bb",
   "metadata": {},
   "source": [
    "[1] S. M. Pincus, “Approximate entropy as a measure of system complexity,” Mathematics, vol. 88, no. March, pp. 2297–2301, 1991.\n",
    "[2] S. M. Pincus and A. L. Goldberger, “Physiological time-series analysis: What does regularity quantify?,” Am. J. Physiol. - Hear. Circ. Physiol., vol. 266, no. 4 35-4, 1994."
   ]
  }
 ],
 "metadata": {
  "kernelspec": {
   "display_name": "Python 3",
   "language": "python",
   "name": "python3"
  },
  "language_info": {
   "codemirror_mode": {
    "name": "ipython",
    "version": 3
   },
   "file_extension": ".py",
   "mimetype": "text/x-python",
   "name": "python",
   "nbconvert_exporter": "python",
   "pygments_lexer": "ipython3",
   "version": "3.8.8"
  }
 },
 "nbformat": 4,
 "nbformat_minor": 5
}
