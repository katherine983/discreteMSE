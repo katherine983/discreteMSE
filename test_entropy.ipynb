{
 "cells": [
  {
   "cell_type": "markdown",
   "id": "484c835d",
   "metadata": {},
   "source": [
    "# Demo of Discrete ApEn and SampEn Algorithms  \n",
    "The following notebook demonstrates the implementations of Approximate Entropy and Sample Entropy in the discreteMSE package. These implementations are specific for use on discrete valued time series where the filter parameter, r, is suppressed and only exact vector matches are counted. The demonstration is divided into four sections:  \n",
    "1. [Section 1](#Section1) provides a review of Approximate Entropy  \n",
    "2. [Section 2](#Section2) provides a review of Sample Entropy\n",
    "3. [Section 3](#Section3) describes the changes to the ApEn and SampEn algorithms for discrete data\n",
    "4. [Section 4](#Section4) reviews the implementation of discrete Apen and SampEn in the discreteMSE.entropy module\n",
    "\n",
    "*Note: In this demonstration, all discussion of indexing or elements at index i assumes a series or sequence indexed at 1 for the first element, as opposed to the Python indexing convention which starts at i=0. This means that some of the indexing used in the Python code blocks will not align completely with that used in the text. Therefore when the range $1 \\leq i \\leq N-m$ is given in the text below, this is equivalent to the range $0 \\leq i \\leq N-m-1$ in Python indexing.*"
   ]
  },
  {
   "cell_type": "code",
   "execution_count": 1,
   "id": "fdafa534",
   "metadata": {},
   "outputs": [],
   "source": [
    "import numpy as np"
   ]
  },
  {
   "cell_type": "markdown",
   "id": "c6b396c6",
   "metadata": {},
   "source": [
    "<a id='Section1'></a>\n",
    "## Theory of Approximate Entropy  "
   ]
  },
  {
   "cell_type": "markdown",
   "id": "d5aa2a02",
   "metadata": {},
   "source": [
    "Approximate Entropy (ApEn) was proposed by Pincus [1](#1) to address the issue of estimating the conditional entropy of finite “real-world” sample sequences. It takes two parameters, *m* and *r*, and works as follows:  "
   ]
  },
  {
   "cell_type": "markdown",
   "id": "00e2ad77",
   "metadata": {},
   "source": [
    "Given a time series sequence *X* of *N* data points, and parameter values $m=2$ and $r=1$;\n",
    "1. Using a sliding window of size *m*, generate a set of vectors of *m* sequential data points from *X*.  \n",
    "\n",
    "    - Ex. If *X* = \\[1, 1, 1, 3, 1, 2, 2, 3, 1, 2\\], $N=10$ and $m=2$,  then the set of *m*-vectors should be  \n",
    "    \\[\\[1, 1\\], \\[1, 1\\], \\[1, 3\\], \\[3, 1\\], \\[1, 2\\], \\[2, 2\\], \\[2, 3\\], \\[3, 1\\], \\[1, 2\\]\\].\n",
    "    \n",
    "        - Note there are $N-m+1=10-2+1=9$ vectors in the set."
   ]
  },
  {
   "cell_type": "code",
   "execution_count": 2,
   "id": "192775f5",
   "metadata": {},
   "outputs": [
    {
     "name": "stdout",
     "output_type": "stream",
     "text": [
      "xmi:  [[1 1]\n",
      " [1 1]\n",
      " [1 3]\n",
      " [3 1]\n",
      " [1 2]\n",
      " [2 2]\n",
      " [2 3]\n",
      " [3 1]\n",
      " [1 2]]\n",
      "z = 9\n"
     ]
    },
    {
     "data": {
      "text/plain": [
       "True"
      ]
     },
     "execution_count": 2,
     "metadata": {},
     "output_type": "execute_result"
    }
   ],
   "source": [
    "X = np.array([1, 1, 1, 3, 1, 2, 2, 3, 1, 2])\n",
    "m = 2\n",
    "r = 1\n",
    "N = len(X)\n",
    "#xmi is the set of m-vectors \n",
    "xmi = np.array([X[i:i+m] for i in range(len(X)-m+1)])\n",
    "#z is the number of m-vectors in xmi\n",
    "z = len(xmi)\n",
    "print(\"xmi: \", xmi)\n",
    "print(\"z =\", z)\n",
    "#z should equal (N-m+1)\n",
    "z == N-m+1"
   ]
  },
  {
   "cell_type": "markdown",
   "id": "51180e4e",
   "metadata": {},
   "source": [
    "2. For each vector, $x_m(i)$, in the set, calculate the maximum elementwise distance (Chebyshev distance) as $d[x_m(i), x_m(j)] = max(|X_{i+k} - X_{j+k}|), for 0\\leq k\\leq m-1$, from each of the vectors, $x_m(j), 1 \\leq j \\leq N-m+1$, in the set.  \n",
    "  \n",
    "    - Ex. Continuing the example above, for $i=1$, $x_m(1)$ = \\[1, 1\\], the max distance, $d[x_m(1), x_m(3)]$, between $x_m(1)$ and $x_m(3)$ is calculated as $max(|[(1-1), (1-3)]|) = max([0, 2]) = 2$. The max distance between $x_m(1)$ and each $x_m(j), 1\\leq j\\leq N-m+1$ is and listed here:  \n",
    "    \\[0, 0, 2, 2, 1, 1, 2, 2, 1\\]  \n",
    "    *Note that the ApEn algorithm includes the distance between $x_m(i)$ and itself."
   ]
  },
  {
   "cell_type": "code",
   "execution_count": 3,
   "id": "d8aa4e2f",
   "metadata": {},
   "outputs": [
    {
     "name": "stdout",
     "output_type": "stream",
     "text": [
      "[[0 0 2 2 1 1 2 2 1]\n",
      " [0 0 2 2 1 1 2 2 1]\n",
      " [2 2 0 2 1 1 1 2 1]\n",
      " [2 2 2 0 2 1 2 0 2]\n",
      " [1 1 1 2 0 1 1 2 0]\n",
      " [1 1 1 1 1 0 1 1 1]\n",
      " [2 2 1 2 1 1 0 2 1]\n",
      " [2 2 2 0 2 1 2 0 2]\n",
      " [1 1 1 2 0 1 1 2 0]]\n"
     ]
    }
   ],
   "source": [
    "#create 3d array of xmi vectors where each xi in xmi is its own 1xm subarray\n",
    "xi_matrix = np.stack([xmi], axis=2).reshape((z,1,m))\n",
    "#Calculate the Chebyshev distance between each xmi and xmj\n",
    "#first get the absolute elementwise difference between each xmi, xmj vector\n",
    "dif = np.abs(xi_matrix - xmi)\n",
    "#print(dif)\n",
    "#then calculate the max difference for each xmi,xmj pair\n",
    "maxdist = dif.max(axis=2)\n",
    "print(maxdist)"
   ]
  },
  {
   "cell_type": "markdown",
   "id": "9204af4c",
   "metadata": {},
   "source": [
    "3. Let $B_i$ equal the number of vectors, $x_m(j)$, whose Chebyshev distance from $x_m(i)$ is less than or equal to the parameter *r*. (*r* is called the filter or tolerance parameter because it defines the tolerance within which two vectors may be considered matching.)  \n",
    "  \n",
    "    - Ex. For the above, for $r=1$, and at $i=1$, $B_1 = 5$ and the list of each $B_i$ is \n",
    "    \\[5, 5, 5, 3, 7, 9, 5, 3, 7\\]  \n",
    "    "
   ]
  },
  {
   "cell_type": "code",
   "execution_count": 4,
   "id": "040d87dd",
   "metadata": {},
   "outputs": [
    {
     "data": {
      "text/plain": [
       "array([5, 5, 5, 3, 7, 9, 5, 3, 7])"
      ]
     },
     "execution_count": 4,
     "metadata": {},
     "output_type": "execute_result"
    }
   ],
   "source": [
    "Bi = np.sum(maxdist<=r, axis=1)\n",
    "Bi"
   ]
  },
  {
   "cell_type": "markdown",
   "id": "94e8c258",
   "metadata": {},
   "source": [
    "4. For each $i$, $1 \\leq i \\leq N-m+1$, calculate the value $C_i^m(r) = B_i/(N-m+1)$.\n",
    "    - Ex. For $i=1$, $C_1^m(r=1) = 5/9 = 0.5556$  "
   ]
  },
  {
   "cell_type": "code",
   "execution_count": 5,
   "id": "96693646",
   "metadata": {},
   "outputs": [
    {
     "name": "stdout",
     "output_type": "stream",
     "text": [
      "[0.55555556 0.55555556 0.55555556 0.33333333 0.77777778 1.\n",
      " 0.55555556 0.33333333 0.77777778]\n"
     ]
    }
   ],
   "source": [
    "Cmi = Bi/(N-m+1)\n",
    "print(Cmi)"
   ]
  },
  {
   "cell_type": "markdown",
   "id": "c6e17b6f",
   "metadata": {},
   "source": [
    "5. Then compute the value $\\phi^m(r) = (N-m+1)^{-1} \\sum_{i=1}^{N-m+1} ln C_i^m(r)$ \n",
    "    - Ex. $\\phi^m(r) = (9)^{-1} * [ln(5/9)+ln(5/9)+ln(5/9)+ln(3/9)+ln(7/9)+ln(9/9)+ln(5/9)+ln(3/9)+ln(7/9)] = -0.561$"
   ]
  },
  {
   "cell_type": "code",
   "execution_count": 6,
   "id": "8911973d",
   "metadata": {},
   "outputs": [
    {
     "name": "stdout",
     "output_type": "stream",
     "text": [
      "-0.561222232611834\n"
     ]
    }
   ],
   "source": [
    "phim = (1/(N-m+1)) * np.log(Cmi).sum()\n",
    "print(phim)"
   ]
  },
  {
   "cell_type": "markdown",
   "id": "1f966748",
   "metadata": {},
   "source": [
    "6. Repeat steps 1 and 2, except instead of the set of *m*-length vectors, use the set of *N-m* number of vectors of *m+1* sequential data points (i.e. created using a sliding window of size *m+1*).  \n",
    "\n",
    "    - Ex. For the above, *X* = \\[1, 1, 1, 3, 1, 2, 2, 3, 1, 2\\], the set of *N-m* *m+1*-length vectors in *X* should be  \n",
    "    \\[[1, 1, 1], [1, 1, 3], [1, 3, 1], [3, 1, 2], [1, 2, 2], [2, 2, 3], [2, 3, 1], [3, 1, 2]\\]  \n",
    "    - For $x_{m+1}(1)$ = \\[1, 1, 1\\], the Chebyshev distance from each $x_{m+1}(j)$,  $1 \\leq j \\leq N-m$ is:  \n",
    "    \\[0, 2, 2, 2, 1, 2, 2, 2\\]  "
   ]
  },
  {
   "cell_type": "code",
   "execution_count": 7,
   "id": "00d91cc0",
   "metadata": {},
   "outputs": [
    {
     "name": "stdout",
     "output_type": "stream",
     "text": [
      "xm1i:  [[1 1 1]\n",
      " [1 1 3]\n",
      " [1 3 1]\n",
      " [3 1 2]\n",
      " [1 2 2]\n",
      " [2 2 3]\n",
      " [2 3 1]\n",
      " [3 1 2]]\n",
      "z = 8\n"
     ]
    },
    {
     "data": {
      "text/plain": [
       "True"
      ]
     },
     "execution_count": 7,
     "metadata": {},
     "output_type": "execute_result"
    }
   ],
   "source": [
    "#let k equal m+1\n",
    "k = m+1\n",
    "#xm1i is the set of m+1-vectors \n",
    "xm1i = np.array([X[i:i+k] for i in range(len(X)-k+1)])\n",
    "#z is the number of m+1-vectors in xm1i\n",
    "z = len(xm1i)\n",
    "print(\"xm1i: \", xm1i)\n",
    "print(\"z =\", z)\n",
    "#z should equal (N-m)\n",
    "z == N-m"
   ]
  },
  {
   "cell_type": "code",
   "execution_count": 8,
   "id": "69c90948",
   "metadata": {},
   "outputs": [
    {
     "name": "stdout",
     "output_type": "stream",
     "text": [
      "[[0 2 2 2 1 2 2 2]\n",
      " [2 0 2 2 1 1 2 2]\n",
      " [2 2 0 2 1 2 1 2]\n",
      " [2 2 2 0 2 1 2 0]\n",
      " [1 1 1 2 0 1 1 2]\n",
      " [2 1 2 1 1 0 2 1]\n",
      " [2 2 1 2 1 2 0 2]\n",
      " [2 2 2 0 2 1 2 0]]\n"
     ]
    }
   ],
   "source": [
    "#create 3d array of xm1i vectors where each xi in xm1i is its own 1xm+1 subarray\n",
    "xm1i_matrix = np.stack([xm1i], axis=2).reshape((z,1,k))\n",
    "difm1 = np.abs(xm1i_matrix - xm1i)\n",
    "#get max distance between each x_m+1(i) and x_m+1(j) pair\n",
    "maxdistm1 = difm1.max(axis=2)\n",
    "print(maxdistm1)"
   ]
  },
  {
   "cell_type": "markdown",
   "id": "81527db3",
   "metadata": {},
   "source": [
    "7. For each $x_{m+1}(i)$, range $1 \\leq i \\leq N-m$, in the set of *m+1*-length vectors, let $A_i$ equal the number of *m+1* vectors, $x_{m+1}(j)$, $1 \\leq j \\leq N-m$, whose Chebyshev distance from $x_{m+1}(i)$ is less than or equal to *r* and let $C_i^{m+1}(r)$ equal $A_i/(N-m)$.\n",
    "\n",
    "    - Ex. For i=0, $A_0 = 2$ and $C_0^{m+1}(r) = 2/8$\n",
    "    - The list of each $A_i$ would be \n",
    "    \\[2, 3, 3, 3, 6, 5, 3, 3\\]\n",
    "    \n",
    "8. Then $\\phi^{m+1}(r) = (N-m)^{-1} \\sum_{i=1}^{N-m} ln C_i^{m+1}(r)$.\n",
    "    - Ex. $\\phi^{m+1}(r) = (8)^{-1} * [ln(2/8)+ln(3/8)+ln(3/8)+ln(3/8)+ln(6/8)+ln(5/8)+ln(3/8)+ln(3/8)] = -0.881$  "
   ]
  },
  {
   "cell_type": "code",
   "execution_count": 9,
   "id": "81de5bb7",
   "metadata": {},
   "outputs": [
    {
     "name": "stdout",
     "output_type": "stream",
     "text": [
      "Array of Ai:  [2 3 3 3 6 5 3 3]\n",
      "Array of C_i^m+1:  [0.25  0.375 0.375 0.375 0.75  0.625 0.375 0.375]\n",
      "Phi^m+1:  -0.8810157909845048\n"
     ]
    }
   ],
   "source": [
    "Ai = np.sum(maxdistm1<=r, axis=1)\n",
    "print(\"Array of Ai: \", Ai)\n",
    "Cm1i = Ai/(N-m)\n",
    "print(\"Array of C_i^m+1: \", Cm1i)\n",
    "phim1 = (1/(N-m)) * np.log(Cm1i).sum()\n",
    "print(\"Phi^m+1: \", phim1)"
   ]
  },
  {
   "cell_type": "markdown",
   "id": "dce90d43",
   "metadata": {},
   "source": [
    "      \n",
    "      \n",
    "9. Finally, **ApEn(m, r)** is defined as $\\lim_{N\\to\\infty} [\\phi^m(r) - \\phi^{m+1}(r)]$ which is estimated by the statistic:  \n",
    "$$\n",
    "\\begin{split}\n",
    "ApEn(m, r, N) &= \\phi^m(r) - \\phi^{m+1}(r) \\\\\n",
    "&= (N-m+1)^{-1}\\sum_{i=1}^{N-m+1} ln(B_i/(N-m+1)) - (N-m)^{-1} \\sum_{i=1}^{N-m} ln(A_i/(N-m))\n",
    "\\end{split}\n",
    "$$  \n",
    "    - Ex. In the running example, $ApEn(m,r,N)=-0.561 - (-0.881) = 0.320$  \n"
   ]
  },
  {
   "cell_type": "code",
   "execution_count": 10,
   "id": "480260ae",
   "metadata": {},
   "outputs": [
    {
     "data": {
      "text/plain": [
       "0.31979355837267076"
      ]
     },
     "execution_count": 10,
     "metadata": {},
     "output_type": "execute_result"
    }
   ],
   "source": [
    "ApEn = phim - phim1\n",
    "ApEn"
   ]
  },
  {
   "cell_type": "markdown",
   "id": "a52883b2",
   "metadata": {},
   "source": [
    "### ApEn Approximation and Simplification\n",
    "The above statistic is typically approximated by only considering the range $1 \\leq i \\leq N-m$ for the calculation of $B_i$ as well as $A_i$, thus excluding the *m*-length vector at index $i=N-m+1$, and allowing the formula to be simplified as follows:\n",
    "$$\n",
    "ApEn(m,r,N) \\approx (N-m)^{-1} \\sum_{i=1}^{N-m}-ln(A_i/B_i)\n",
    "$$\n",
    "- For the above example, ApEn(m,r,N) would equal 0.253."
   ]
  },
  {
   "cell_type": "code",
   "execution_count": 11,
   "id": "c552a905",
   "metadata": {},
   "outputs": [],
   "source": [
    "#ApEn approximation\n",
    "#xmi is the set of m-vectors\n",
    "xmi = np.array([X[i:i+m] for i in range(len(X[:-1])-m+1)])\n",
    "#z is the number of m-vectors in xmi\n",
    "z = len(xmi)\n",
    "xi_matrix = np.stack([xmi], axis=2).reshape((z,1,m))\n",
    "#Calculate the Chebyshev distance between each xmi and xmj\n",
    "#first get the absolute elementwise difference between each xmi, xmj vector\n",
    "dif = np.abs(xi_matrix - xmi)\n",
    "#print(dif)\n",
    "#then calculate the max difference for each xmi,xmj pair\n",
    "maxdist = dif.max(axis=2)"
   ]
  },
  {
   "cell_type": "code",
   "execution_count": 12,
   "id": "2b5b4062",
   "metadata": {},
   "outputs": [],
   "source": [
    "#let k equal m+1\n",
    "k = m+1\n",
    "#xm1i is the set of m+1-vectors \n",
    "xm1i = np.array([X[i:i+k] for i in range(len(X)-k+1)])\n",
    "#z is the number of m+1-vectors in xm1i\n",
    "z = len(xm1i)\n",
    "#create 3d array of xm1i vectors where each xi in xm1i is its own 1xm+1 subarray\n",
    "xm1i_matrix = np.stack([xm1i], axis=2).reshape((z,1,k))\n",
    "difm1 = np.abs(xm1i_matrix - xm1i)\n",
    "#get max distance between each x_m+1(i) and x_m+1(j) pair\n",
    "maxdistm1 = difm1.max(axis=2)"
   ]
  },
  {
   "cell_type": "code",
   "execution_count": 13,
   "id": "e5aa2e1e",
   "metadata": {},
   "outputs": [
    {
     "name": "stdout",
     "output_type": "stream",
     "text": [
      "[4 4 4 3 6 8 4 3]\n",
      "[2 3 3 3 6 5 3 3]\n"
     ]
    }
   ],
   "source": [
    "#get array of Bi, the counts of m-length vector matches\n",
    "Bi = np.sum(maxdist<=r, axis=1)\n",
    "print(Bi)\n",
    "#get array of Ai, the counts of m+1-length vector matches\n",
    "Ai = np.sum(maxdistm1<=r, axis=1)\n",
    "print(Ai)"
   ]
  },
  {
   "cell_type": "code",
   "execution_count": 14,
   "id": "1618cb41",
   "metadata": {},
   "outputs": [
    {
     "data": {
      "text/plain": [
       "0.25327462839512793"
      ]
     },
     "execution_count": 14,
     "metadata": {},
     "output_type": "execute_result"
    }
   ],
   "source": [
    "#calculate ApEn approximation\n",
    "ApEn = np.sum(np.negative(np.log(Ai/Bi)))/(N-m)\n",
    "ApEn"
   ]
  },
  {
   "cell_type": "markdown",
   "id": "97507346",
   "metadata": {},
   "source": [
    "Nearly all applications of ApEn in the literature use this approximation, including those from Pincus in the papers developing the measure for use on physiologic time series [2](#2). For large values of *N*, the difference between the original ApEn formulation and the algorithmic simplified version is <0.05 when $N-m+1\\geq90$ and <0.02 when $N-m+1\\geq283$ [3](#3). From here on in this demonstration, unless otherwise explicitly stated, references to the ApEn algorithm will imply the approximate formulation: $ApEn(m,r,N) = (N-m)^{-1} \\sum_{i=1}^{N-m}-ln(A_i/B_i)$."
   ]
  },
  {
   "cell_type": "markdown",
   "id": "47141ea5",
   "metadata": {},
   "source": [
    "### Considerations when using ApEn\n",
    "ApEn is not intended to be an estimate of the true entropy rate or K-S entropy of a sequence but rather Pincus asserts it should be regarded as a family of statistics measuring the degree of sequence regularity[1](#1), [4](#4). While the Shannon entropy rate and K-S entropy are designed to estimate the average rate of information gain as $N\\rightarrow\\infty$, ApEn was designed to be used to study the evolution of a system’s complexity over time [4](#4) and compare the irregularity of finite, short sequences (*N*=1000). For ApEn to be valid, Pincus and Goldberger recommend data with at least $N=10m$  data points. However, ApEn is biased for shorter sequences because it includes self-counting when tabulating vector matches. This produces an overestimation of the regularity in the sequence because vectors which only match themselves for m+1 points, will contribute a value of ln(1/1)=0 to the sum, thus skewing the ApEn value towards 0 implying regularity, even though, intuitively, having a large number of vectors which only match themselves should equate to higher irregularity [3](#3). Sample Entropy (SampEn) aims to rectify this bias. "
   ]
  },
  {
   "cell_type": "markdown",
   "id": "52179ed1",
   "metadata": {},
   "source": [
    "<a id='Section2'></a>\n",
    "## Theory of Sample Entropy"
   ]
  },
  {
   "cell_type": "markdown",
   "id": "6e4fc1b3",
   "metadata": {},
   "source": [
    "Richman and Moorman [3](#3) introduced SampEn as an alternative to the ApEn formula that reduces the amount of bias in the sequence regularity estimate. First, similarly to the ApEn algorithmic simplification, SampEn excludes the *m*-length vector at index *N-m+1*, thus ensuring there are corresponding $x_m(i)$ and $x_{m+1}(i)$ for all $i, 1 \\leq i \\leq N-m$. Second, SampEn does not include self-matches in the tabulation of $B_i$ and $A_i$. Finally, while ApEn takes the negative sum of the logarithm of each $A_i/B_i$ ratio for $1 \\leq i \\leq N-m$, SampEn takes the logarithm of the ratio of the total number of *m+1*-length vector matches to the total number of *m*-length vector matches. "
   ]
  },
  {
   "cell_type": "markdown",
   "id": "9aacf8f3",
   "metadata": {},
   "source": [
    "A step by step of the SampEn algorithm presented in [3](#) is as follows:"
   ]
  },
  {
   "cell_type": "markdown",
   "id": "592557f6",
   "metadata": {},
   "source": [
    "Given a time series sequence $X$ of $N$ data points, and parameter values $m=2$ and $r=1$;"
   ]
  },
  {
   "cell_type": "code",
   "execution_count": 15,
   "id": "d836636e",
   "metadata": {},
   "outputs": [],
   "source": [
    "X = np.array([1, 1, 1, 3, 1, 2, 2, 3, 1, 2])\n",
    "m=2\n",
    "r=1\n",
    "N=len(X)"
   ]
  },
  {
   "cell_type": "markdown",
   "id": "f7120457",
   "metadata": {},
   "source": [
    "1. In the same way as in ApEn, obtain the set of *m*-length vectors in $X$ in the range $1\\leq i \\leq N-m$.\n",
    "2. Calculate the Chebyshev distance between each $x_m(i)$ and each $x_m(j)$ for $1\\leq i \\leq N-m$, $1\\leq j \\leq N-m, (j\\neq i)$, where the Chebyshev distance $d[x_m(i),x_m(j)]$ is the max absolute difference between the elements of the two vectors from $X$, given by $max(|X_{i+k} - X_{j+k}|), 0\\leq k\\leq m-1$."
   ]
  },
  {
   "cell_type": "code",
   "execution_count": 16,
   "id": "a9d96647",
   "metadata": {},
   "outputs": [],
   "source": [
    "#16\n",
    "#xmi is the set of m-vectors\n",
    "xmi = np.array([X[i:i+m] for i in range(len(X[:-1])-m+1)])\n",
    "#z is the number of m-vectors in xmi\n",
    "z = len(xmi)\n",
    "xi_matrix = np.stack([xmi], axis=2).reshape((z,1,m))\n",
    "#Calculate the Chebyshev distance between each xmi and xmj\n",
    "#first get the absolute elementwise difference between each xmi, xmj vector\n",
    "dif = np.abs(xi_matrix - xmi)\n",
    "#print(dif)\n",
    "#then calculate the max difference for each xmi,xmj pair\n",
    "maxdist = dif.max(axis=2)"
   ]
  },
  {
   "cell_type": "markdown",
   "id": "b5d118fb",
   "metadata": {},
   "source": [
    "3. Define the value $B_i^m(r)$ as $(N-m-1)^{-1}$ times the number of vectors $x_m(j)$ where $d[x_m(i),x_m(j)] \\leq r$ for all *j* in range $1 \\leq j \\leq N-m, (j\\neq i)$. \n",
    "One interpretation of $B_i^m(r)$, when *r* is small enough, is $B_i^m(r)$ is the proportional frequency of the vector $x_m(i)$ in $X$ excluding itself, thus the term $(N-m-1)^{-1}$ is used for the normalization and not $(N-m)^{-1}$ since only $N-m-1$ are considered when counting matches of $x_m(i)$. If we interpret the value $B_i$ from the ApEn calculation in the previous section as the frequency of vectors matching $x_m(i)$ in $X$, then $B_i^m(r) = (N-m-1)^{-1}(B_i - 1)$.  \n",
    "\n",
    "    - Ex. With the same sequence from the ApEn demonstration, *X* = \\[1, 1, 1, 3, 1, 2, 2, 3, 1, 2\\], $N=10$ and $m=2$, and set of *m*-vectors \\[\\[1, 1\\], \\[1, 1\\], \\[1, 3\\], \\[3, 1\\], \\[1, 2\\], \\[2, 2\\], \\[2, 3\\], \\[3, 1\\], \\[1, 2\\]\\].  \n",
    "    - Recall the max distance between $x_m(1)$ and each $x_m(j)$, $1\\leq j \\leq N-m$ was \\[0, 0, 2, 2, 1, 1, 2, 2\\]\n",
    "    - Therefore, the number of $x_m(j)$ matching $x_m(1)$, given by $B_1$, is 4 and the indices of the matching $x_m(j)$ are 1, 2, 5, and 6. If we exclude $x_m(j)$ where $j = i$, then we remove the vector at index 1 and the new total number of $x_m(j)$ matches is 3, which is equivalent to the expression $B_1 - 1$. \n",
    "    - Following this we can calculate $B_1^m$ as $(B_1 - 1)/(N-m-1) = 3/7 = 0.429$"
   ]
  },
  {
   "cell_type": "code",
   "execution_count": 17,
   "id": "415a2f57",
   "metadata": {},
   "outputs": [
    {
     "name": "stdout",
     "output_type": "stream",
     "text": [
      "[4 4 4 3 6 8 4 3]\n",
      "[0.42857143 0.42857143 0.42857143 0.28571429 0.71428571 1.\n",
      " 0.42857143 0.28571429]\n"
     ]
    }
   ],
   "source": [
    "#17\n",
    "#get array of Bi, the counts of m-length vector matches\n",
    "#each element of maxdist where maxdist<=r is True will contribute the value 1 to the sum\n",
    "#therefore each row in Bi becomes the count of vector matches for the vector associated with that row\n",
    "Bi = np.sum(maxdist<=r, axis=1)\n",
    "print(Bi)\n",
    "Bmi = (Bi - 1)/(N-m-1)\n",
    "print(Bmi)"
   ]
  },
  {
   "cell_type": "markdown",
   "id": "bbfe29ce",
   "metadata": {},
   "source": [
    "4. Repeat steps 1 and 2, except instead of the set of *m*-length vectors, use the *N-m* set of vectors of *m+1* sequential data points (i.e. created using a sliding window of size *m+1*). \n"
   ]
  },
  {
   "cell_type": "code",
   "execution_count": 18,
   "id": "2a70103b",
   "metadata": {},
   "outputs": [],
   "source": [
    "#18\n",
    "#let k equal m+1\n",
    "k = m+1\n",
    "#xm1i is the set of m+1-vectors \n",
    "xm1i = np.array([X[i:i+k] for i in range(len(X)-k+1)])\n",
    "#z is the number of m+1-vectors in xm1i\n",
    "z = len(xm1i)\n",
    "#create 3d array of xm1i vectors where each xi in xm1i is its own 1xm+1 subarray\n",
    "xm1i_matrix = np.stack([xm1i], axis=2).reshape((z,1,k))\n",
    "difm1 = np.abs(xm1i_matrix - xm1i)\n",
    "#get max distance between each x_m+1(i) and x_m+1(j) pair\n",
    "maxdistm1 = difm1.max(axis=2)"
   ]
  },
  {
   "cell_type": "markdown",
   "id": "4b182f54",
   "metadata": {},
   "source": [
    "5. Next define the value $A_i^m(r)$ as $(N-m-1)^{-1}$ times the number of vectors $x_{m+1}(j)$ where $d[x_{m+1}(i),x_{m+1}(j)] \\leq r$ for all *j* in range $1 \\leq j \\leq N-m, (j\\neq i)$. As we did with the value $B_i^m(r)$, we can use the formula $A_i^m(r) = (A_i - 1)/(N-m-1)$.\n",
    "    - Ex. The max distance between $x_{m+1}(1)$ and each $x_{m+1}(j)$ is \\[0, 2, 2, 2, 1, 2, 2, 2\\].\n",
    "    - Then the number of $x_{m+1}(j)$ matchinig $x_{m+1}(1)$, given by $A_1$, is 2 and the indices of the matching $x_{m+1}(j)$ are 1 and 5. If we exclude $x_{m+1}(j)$ where $j=1$, then we remove the vector at index 1 and the new total number of $x_{m+1}(j)$ matches is 1, which is equivalent to the expression $A_1 - 1$.  \n",
    "    - Following this we can calculate $A_1^m$ as $(A_1 -1)/(N-m-1) = 1/7 = 0.143$"
   ]
  },
  {
   "cell_type": "code",
   "execution_count": 19,
   "id": "e14acfd1",
   "metadata": {},
   "outputs": [
    {
     "name": "stdout",
     "output_type": "stream",
     "text": [
      "[2 3 3 3 6 5 3 3]\n",
      "[0.14285714 0.28571429 0.28571429 0.28571429 0.71428571 0.57142857\n",
      " 0.28571429 0.28571429]\n"
     ]
    }
   ],
   "source": [
    "Ai = np.sum(maxdistm1<=r, axis=1)\n",
    "print(Ai)\n",
    "Ami = (Ai - 1)/(N-m-1)\n",
    "print(Ami)"
   ]
  },
  {
   "cell_type": "markdown",
   "id": "f442b842",
   "metadata": {},
   "source": [
    "6. Next define $B^m(r) = (N-m)^{-1}\\sum_{i=1}^{N-m}B_i^m(r)$ and $A^m(r) = (N-m)^{-1}\\sum_{i=1}^{N-m}A_i^m(r)$.\n",
    "    - Ex. For the running example, $B^m(r) = (3/7 + 3/7 +3/7 + 2/7 + 5/7 + 7/7 + 3/7 + 2/7)/8 = 0.5$ and\n",
    "    - $A^m(r) = (1/7 + 2/7 + 2/7 + 2/7 + 5/7 + 4/7 + 2/7 + 2/7)/8 = 0.357$. "
   ]
  },
  {
   "cell_type": "code",
   "execution_count": 20,
   "id": "9e2ba042",
   "metadata": {},
   "outputs": [
    {
     "name": "stdout",
     "output_type": "stream",
     "text": [
      "0.5\n",
      "0.3571428571428571\n"
     ]
    }
   ],
   "source": [
    "Bmr = np.sum(Bmi)/(N-m)\n",
    "print(Bmr)\n",
    "Amr = np.sum(Ami)/(N-m)\n",
    "print(Amr)"
   ]
  },
  {
   "cell_type": "markdown",
   "id": "e3d01695",
   "metadata": {},
   "source": [
    "7. Finally, calculate SampEn as the limit ($\\lim_{N\\to\\infty}$), of the negative logarithm of the ratio between $A^m(r)$ and $B^m(r)$.  \n",
    "$$\n",
    "SampEn(m, r, N) = -ln[A^m(r)/B^m(r)]\n",
    "$$\n",
    "\n",
    "    - In the running example, $SampEn(2, 1, 10) = -ln[0.357/0.5] = 0.336$."
   ]
  },
  {
   "cell_type": "code",
   "execution_count": 21,
   "id": "04ce2ade",
   "metadata": {},
   "outputs": [
    {
     "name": "stdout",
     "output_type": "stream",
     "text": [
      "0.33647223662121306\n"
     ]
    }
   ],
   "source": [
    "Sampen = np.negative(np.log(Amr/Bmr))\n",
    "print(Sampen)"
   ]
  },
  {
   "cell_type": "markdown",
   "id": "c25e5d27",
   "metadata": {},
   "source": [
    "Note that the code in cells 11 and 12 is the same as in cells 16 and 18 because SampEn and ApEn use the same process for getting the Chebyshev distance between each *m*-length and *m+1*-length vector in $X$. "
   ]
  },
  {
   "cell_type": "markdown",
   "id": "0fb28833",
   "metadata": {},
   "source": [
    "One interpretation of $B_i^m(r)$, when *r* is small enough, is $B_i^m(r)$ is the proportional frequency of the vector $x_m(i)$ in $X$ excluding itself, thus the term $(N-m-1)^{-1}$ is used for the normalization and not $(N-m)^{-1}$ since only $N-m-1$ are considered when counting matches of $x_m(i)$. If we interpret the value $B_i$ from the ApEn calculation in the previous section as the frequency of vectors matching $x_m(i)$ in $X$, then $B_i^m(r) = (N-m-1)^{-1}(B_i - 1)$."
   ]
  },
  {
   "cell_type": "markdown",
   "id": "2757241f",
   "metadata": {},
   "source": [
    "### SampEn Simplification\n",
    "Through algebraic manipulation, Richman and Moorman [3](#3) were able to simplify the above formula by first defining the value $B$ as the overall total number of *m*-length vector matches and the value $A$ as the total number of *m+1*-length vector matches. They demonstrate that $A/B = A^m(r)/B^m(r)$ and then substitute in the above SampEn formula to get the following simplified formula [3](#3):  \n",
    "$$\n",
    "SampEn(m, r, N) = -ln[A/B]\n",
    "$$  \n",
    "We can compute the total number of *m*-length vector matches as $B = \\sum_{i=1}^{N-m}(B_i-1) = [\\sum_{i=1}^{N-m} B_i ] - (N-m)$. Similarly, we can compute the total number of *m+1*-length vector matches as $A = \\sum_{i=1}^{N-m}(A_i-1) = [\\sum_{i=1}^{N-m} A_i ] - (N-m)$.  \n",
    "   - For the ongoing example, $B = (4 + 4 + 4 + 3 + 6 + 8 + 4 + 3)-(10 - 2) = 28$  \n",
    "   - and $A = (2+3+3+3+6+5+3+3) - (10 - 2) = 20$\n",
    "   - Then we would calculate SampEn as $SampEn(2, 1, 10) = -ln[20/28] = 0.336$"
   ]
  },
  {
   "cell_type": "code",
   "execution_count": 22,
   "id": "dbef4418",
   "metadata": {
    "scrolled": false
   },
   "outputs": [
    {
     "name": "stdout",
     "output_type": "stream",
     "text": [
      "B =  28\n",
      "A =  20\n",
      "Simplified SampEn =  0.3364722366212129\n"
     ]
    }
   ],
   "source": [
    "Bi = np.sum(maxdist<=r, axis=1)\n",
    "B = np.sum(Bi) - (N-m)\n",
    "print(\"B = \", B)\n",
    "Ai = np.sum(maxdistm1<=r, axis=1)\n",
    "A = np.sum(Ai) - (N-m)\n",
    "print(\"A = \", A)\n",
    "Sampensimp = np.negative(np.log(A/B))\n",
    "print(\"Simplified SampEn = \", Sampensimp)"
   ]
  },
  {
   "cell_type": "markdown",
   "id": "5638b35b",
   "metadata": {},
   "source": [
    "<a id='Section3'></a>\n",
    "## ApEn and SampEn for Discrete Data"
   ]
  },
  {
   "cell_type": "markdown",
   "id": "d75ec8d0",
   "metadata": {},
   "source": [
    "The inclusion of the parameter *r* in the formulations of Apen and SampEn allows the statistics to be well defined on variables with continuous state spaces (i.e. uncountable). However, Pincus [1](#1) noted that when a variable has a discrete state space (such as the space of natural numbers or integers), if the value of *r* is set to less than the minimum difference between any two state space values ($r < min(|x - y|, x \\neq y, x \\ and \\ y \\ state \\ space \\ values$) then the influence of *r* on the calculation of ApEn is suppressed (as demonstrated in [5](#5) and [6](#6)). In other words, for discrete valued data, we can ignore *r* and instead of using the Chebyshev distance we evaluate $x_m(j)$ as a match of $x_m(i)$ if $X_{i+k} = X_{j+k}$ is True for $0\\leq k\\leq m-1$, (i.e. $x_m(j)$ is an exact match of $x_m(i)$."
   ]
  },
  {
   "cell_type": "markdown",
   "id": "acebed7c",
   "metadata": {},
   "source": [
    "We make the appropriate alterations to the vector matching algorithm as follows:\n",
    "1. Obtain the set of *m*-length vectors in $X$ in the range $1\\leq i \\leq N-m$ just as before.\n",
    "2. For each $x_m(i)$ calculate the number of elements of $x_m(j)$ which equal the corresponding elements in $x_m(i)$. \n",
    "    - Define the delta function $\\delta_{i,j}$ as  \n",
    "     $$\n",
    "     \\delta(i,j) = \\left\\{\n",
    "        \\begin{array}\\\\\n",
    "            1 & \\mbox{if } \\ i \\neq j \\\\\n",
    "            0 & \\mbox{if } \\ i = j \\\\\n",
    "        \\end{array}\n",
    "      \\right.\n",
    "      $$\n",
    "    - Then calculate the simiilarity distance between $x_m(j)$ and $x_m(i)$ as $d[x_m(i), x_m(j)] = \\sum_{k=0}^{m-1}\\delta(X_{i+k}, X_{j+k})$.  \n",
    "    - When $d[x_m(i), x_m(j)] = 0$ then that means all elements in $x_m(j)$ match the corresponding elements in $x_m(i)$ and thus the two vectors are a match. \n",
    "3. We then redefine the values $B_i, \\ 1\\leq i \\leq N-m$ as the number of vectors, $x_m(j), \\ 1\\leq j\\leq N-m$, where $d[x_m(i), x_m(j)] = 0$."
   ]
  },
  {
   "cell_type": "code",
   "execution_count": 23,
   "id": "ff936376",
   "metadata": {},
   "outputs": [
    {
     "data": {
      "text/plain": [
       "array([2, 2, 1, 2, 1, 1, 1, 2])"
      ]
     },
     "execution_count": 23,
     "metadata": {},
     "output_type": "execute_result"
    }
   ],
   "source": [
    "#calculate xmi, z and xi_matrix the same as before\n",
    "#xmi is the set of m-vectors\n",
    "xmi = np.array([X[i:i+m] for i in range(len(X[:-1])-m+1)])\n",
    "#z is the number of m-vectors in xmi\n",
    "z = len(xmi)\n",
    "xi_matrix = np.stack([xmi], axis=2).reshape((z,1,m))\n",
    "#apply the delta function from above between each xi and xmi for all xi in xi_matrix\n",
    "dif = np.invert(xi_matrix==xmi).astype(int)\n",
    "#get the similarity distance between each xi and xj\n",
    "sim_dist = dif.sum(axis=2)\n",
    "Bi = np.sum(sim_dist==0, axis=1)\n",
    "Bi"
   ]
  },
  {
   "cell_type": "markdown",
   "id": "010972cb",
   "metadata": {},
   "source": [
    "4. Repeat steps 1 and 2 for vectors length *m+1*.  \n",
    "5. Redefine the values $A_i, \\ 1\\leq i \\leq N-m$ as the number of vectors, $x_{m+1}(j),  \\ 1\\leq j\\leq N-m$, where $d[x_{m+1}(i), x_{m+1}(j)] = 0$."
   ]
  },
  {
   "cell_type": "code",
   "execution_count": 24,
   "id": "ab8e231c",
   "metadata": {},
   "outputs": [
    {
     "data": {
      "text/plain": [
       "array([1, 1, 1, 2, 1, 1, 1, 2])"
      ]
     },
     "execution_count": 24,
     "metadata": {},
     "output_type": "execute_result"
    }
   ],
   "source": [
    "k = m+1\n",
    "#xm1i is the set of m+1-vectors \n",
    "xm1i = np.array([X[i:i+k] for i in range(len(X)-k+1)])\n",
    "#z is the number of m+1-vectors in xm1i\n",
    "z = len(xm1i)\n",
    "#create 3d array of xm1i vectors where each xi in xm1i is its own 1xm+1 subarray\n",
    "xm1i_matrix = np.stack([xm1i], axis=2).reshape((z,1,k))\n",
    "difm1 = np.invert(xm1i_matrix == xm1i).astype(int)\n",
    "sim_distm1 = difm1.sum(axis=2)\n",
    "Ai = np.sum(sim_distm1==0, axis=1)\n",
    "Ai"
   ]
  },
  {
   "cell_type": "markdown",
   "id": "dc6bad34",
   "metadata": {},
   "source": [
    "From here the remainder of the ApEn and SampEn algorithms proceed as normal."
   ]
  },
  {
   "cell_type": "code",
   "execution_count": 25,
   "id": "13dfc70a",
   "metadata": {},
   "outputs": [
    {
     "name": "stdout",
     "output_type": "stream",
     "text": [
      "Discrete ApEn:  0.17328679513998632\n",
      "Discrete SampEn:  0.6931471805599453\n"
     ]
    }
   ],
   "source": [
    "ApEndisc = np.sum(np.negative(np.log(Ai/Bi)))/(N-m)\n",
    "Sampendisc = np.negative(np.log((Ai.sum()-(N-m))/(Bi.sum()-(N-m))))\n",
    "print(\"Discrete ApEn: \", ApEndisc)\n",
    "print(\"Discrete SampEn: \", Sampendisc)"
   ]
  },
  {
   "cell_type": "markdown",
   "id": "ae70abe3",
   "metadata": {},
   "source": [
    "<a id='Section4'></a>\n",
    "## Python Implementation of Discrete ApEn and SampEn"
   ]
  },
  {
   "cell_type": "markdown",
   "id": "dc8dbfbd",
   "metadata": {},
   "source": [
    "The entropy module of the discreteMSE package provides implementations of ApEn and SampEn for discrete valued data. Since the vector matching routine described above and implemented in cells 23 and 24 is the same for both ApEn and SampEn, this routine is implemented in its own function, vector_matches(data, m), which takes a 1-dimensional data sequence and the size of the sliding window as arguments. When used to compute the number of *m*-length matches, vector_matches is given data\\[:-1\\] for the data argument in order to include only the first *N-m* vectors of length *m* in the computation of Bi.\n",
    "\n",
    "The code for discreteMSE.entropy.apen() and discreteMSE.entropy.sampen() is copied here for ease of review."
   ]
  },
  {
   "cell_type": "code",
   "execution_count": 26,
   "id": "623de424",
   "metadata": {
    "scrolled": false
   },
   "outputs": [],
   "source": [
    "from discreteMSE.entropy import vector_matches"
   ]
  },
  {
   "cell_type": "code",
   "execution_count": 27,
   "id": "b8f50fbf",
   "metadata": {},
   "outputs": [],
   "source": [
    "#copy of code for discreteMSE.entropy.apen()\n",
    "def apen(data, m, version='approx'):\n",
    "    if version == 'approx':\n",
    "        N = len(data)\n",
    "        Bi = vector_matches(data[:-1], m)\n",
    "        k=m+1\n",
    "        Ai = vector_matches(data, k)\n",
    "        #print('N-m', N-m)\n",
    "        #print('Bi', len(Bi), 'Ai', len(Ai))\n",
    "        #print(Bi.shape == Ai.shape)\n",
    "        apen = np.sum(np.negative(np.log(Ai/Bi)))/(N-m)\n",
    "\n",
    "    if version == 'phi':\n",
    "        N = len(data)\n",
    "        Bi = vector_matches(data, m)\n",
    "        k=m+1\n",
    "        Ai = vector_matches(data, k)\n",
    "        Cmi = Bi/(N-m+1)\n",
    "        Cm1i = Ai/(N-m)\n",
    "        phim = (np.log(Cmi).sum())/(N-m+1)\n",
    "        phim1 = (np.log(Cm1i).sum())/(N-m)\n",
    "        apen = phim - phim1\n",
    "\n",
    "    return apen, Bi, Ai"
   ]
  },
  {
   "cell_type": "markdown",
   "id": "7fc6fa0a",
   "metadata": {},
   "source": [
    "Note discreteMSE.entropy.apen() is given an optional parameter to calculate ApEn using the original formulation of $\\phi^m - \\phi^{m+1}$. The default is to calculate ApEn using the standard approximation algorithm."
   ]
  },
  {
   "cell_type": "code",
   "execution_count": 28,
   "id": "64a2c661",
   "metadata": {},
   "outputs": [],
   "source": [
    "#copy of code for discreteMSE.entropy.sampen()\n",
    "def sampen(data, m, refseq=None):\n",
    "    #get total number of m-length matches, store in variable 'B'\n",
    "    Bi = vector_matches(data[:-1], m)\n",
    "    B = np.sum(Bi) - (len(data)-m)\n",
    "    #print(B)\n",
    "\n",
    "    #get total number of m+1-length matches, store in variable 'A'\n",
    "    k = m+1\n",
    "    Ai = vector_matches(data, k)\n",
    "    A = np.sum(Ai) - (len(data)-m)\n",
    "    #print(A)\n",
    "    if A == 0:\n",
    "        print(f\"The sequence {refseq} is unique, there were no m+1-length matches.\")\n",
    "        sampen = 'Undefined'\n",
    "        print(sampen, B, A)\n",
    "        return sampen, B, A\n",
    "    if B == 0:\n",
    "        print(f\"The sequence {refseq} is unique, there were no m-length matches.\")\n",
    "        sampen = 'Undefined'\n",
    "        print(sampen, B, A)\n",
    "        return sampen, B, A\n",
    "    else:\n",
    "        sampen = np.negative(np.log(A/B))\n",
    "        return sampen, B, A"
   ]
  },
  {
   "cell_type": "code",
   "execution_count": 29,
   "id": "0bba31a3",
   "metadata": {
    "scrolled": true
   },
   "outputs": [
    {
     "name": "stdout",
     "output_type": "stream",
     "text": [
      "ApEn calculated from apen():  0.17328679513998632\n",
      "SampEn calculated from sampen():  0.6931471805599453\n",
      "Discrete ApEn calculated above:  0.17328679513998632\n",
      "Discrete SampEn calculated above:  0.6931471805599453\n",
      "See that the functions are equivalent to values of ApEn and SampEn calculated before.\n"
     ]
    }
   ],
   "source": [
    "ApEn2, bi, ai = apen(X, m)\n",
    "Sampen2, b, a = sampen(X, m)\n",
    "print(\"ApEn calculated from apen(): \", ApEn2)\n",
    "print(\"SampEn calculated from sampen(): \", Sampen2)\n",
    "print(\"Discrete ApEn calculated above: \", ApEndisc)\n",
    "print(\"Discrete SampEn calculated above: \", Sampendisc)\n",
    "print(\"See that the functions are equivalent to values of ApEn and SampEn calculated before.\")"
   ]
  },
  {
   "cell_type": "markdown",
   "id": "c5f67724",
   "metadata": {},
   "source": [
    "## References"
   ]
  },
  {
   "cell_type": "markdown",
   "id": "9c4ddf96",
   "metadata": {},
   "source": [
    "<a id='1'></a>\n",
    "<div class=\"csl-entry\">[1] Pincus, S. M. (1991). Approximate entropy as a measure of system complexity. <i>Proceedings of the National Academy of Sciences of the United States of America</i>, <i>88</i>(6), 2297–2301. https://doi.org/10.1073/pnas.88.6.2297</div>\n",
    "<a id='2'></a>\n",
    "<div class=\"csl-entry\">[2] Delgado-Bonal, A., &#38; Marshak, A. (2019). Approximate entropy and sample entropy: A comprehensive tutorial. In <i>Entropy</i> (Vol. 21, Issue 6). https://doi.org/10.3390/e21060541</div>\n",
    "<a id='3'></a>\n",
    "<div class=\"csl-entry\">[3] Richman, J. S., &#38; Moorman, J. R. (2000). Physiological time-series analysis using approximate entropy and sample entropy. <i>Americal Journal of Physiology Heart and Circulatory Physiology</i>, <i>278</i>, H2039–H2049.</div>\n",
    "<a id='4'></a>\n",
    "<div class=\"csl-entry\">[4] Pincus, S. M., &#38; Goldberger, A. L. (1994). Physiological time-series analysis: What does regularity quantify? <i>American Journal of Physiology - Heart and Circulatory Physiology</i>, <i>266</i>(4 35-4). https://doi.org/10.1152/ajpheart.1994.266.4.h1643</div>\n",
    "<a id='5'></a>\n",
    "<div class=\"csl-entry\">[5] Pincus, S., &#38; Singer, B. H. (1996). Randomness and degrees of irregularity. <i>Proceedings of the National Academy of Sciences of the United States of America</i>, <i>93</i>(5), 2083–2088. https://doi.org/10.1073/pnas.93.5.2083</div>\n",
    "<a id='6'></a>\n",
    "<div class=\"csl-entry\">[6] Pincus, S., &#38; Kalman, R. E. (1997). Not all (possibly) “random” sequences are created equal. <i>Proceedings of the National Academy of Sciences of the United States of America</i>, <i>94</i>(8), 3513–3518. https://doi.org/10.1073/pnas.94.8.3513</div>"
   ]
  }
 ],
 "metadata": {
  "kernelspec": {
   "display_name": "Python 3",
   "language": "python",
   "name": "python3"
  },
  "language_info": {
   "codemirror_mode": {
    "name": "ipython",
    "version": 3
   },
   "file_extension": ".py",
   "mimetype": "text/x-python",
   "name": "python",
   "nbconvert_exporter": "python",
   "pygments_lexer": "ipython3",
   "version": "3.8.8"
  }
 },
 "nbformat": 4,
 "nbformat_minor": 5
}
