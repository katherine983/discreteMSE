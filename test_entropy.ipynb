{
 "cells": [
  {
   "cell_type": "code",
   "execution_count": 17,
   "id": "623de424",
   "metadata": {
    "scrolled": true
   },
   "outputs": [],
   "source": [
    "import numpy as np\n",
    "from discreteMSE.entropy import apen, sampen, vector_matches\n",
    "#from discreteMSE.entropy import apen, sampen"
   ]
  },
  {
   "cell_type": "code",
   "execution_count": 44,
   "id": "d836636e",
   "metadata": {},
   "outputs": [],
   "source": [
    "#data = np.array([6, 1, 6, 8, 7, 2, 2, 7, 5, 2, 5, 5, 4, 5, 5, 6, 6, 1, 1, 1])\n",
    "data = np.array([1, 1, 1, 3, 1, 2, 2, 3, 1, 2])\n",
    "m=2\n",
    "N=len(data)"
   ]
  },
  {
   "cell_type": "code",
   "execution_count": 37,
   "id": "304edefc",
   "metadata": {},
   "outputs": [
    {
     "name": "stdout",
     "output_type": "stream",
     "text": [
      "[[1 1]\n",
      " [1 1]\n",
      " [1 3]\n",
      " [3 1]\n",
      " [1 2]\n",
      " [2 2]\n",
      " [2 3]\n",
      " [3 1]\n",
      " [1 2]]\n",
      "---------\n",
      "[[[0 0]\n",
      "  [0 0]\n",
      "  [0 1]\n",
      "  [1 0]\n",
      "  [0 1]\n",
      "  [1 1]\n",
      "  [1 1]\n",
      "  [1 0]\n",
      "  [0 1]]\n",
      "\n",
      " [[0 0]\n",
      "  [0 0]\n",
      "  [0 1]\n",
      "  [1 0]\n",
      "  [0 1]\n",
      "  [1 1]\n",
      "  [1 1]\n",
      "  [1 0]\n",
      "  [0 1]]\n",
      "\n",
      " [[0 1]\n",
      "  [0 1]\n",
      "  [0 0]\n",
      "  [1 1]\n",
      "  [0 1]\n",
      "  [1 1]\n",
      "  [1 0]\n",
      "  [1 1]\n",
      "  [0 1]]\n",
      "\n",
      " [[1 0]\n",
      "  [1 0]\n",
      "  [1 1]\n",
      "  [0 0]\n",
      "  [1 1]\n",
      "  [1 1]\n",
      "  [1 1]\n",
      "  [0 0]\n",
      "  [1 1]]\n",
      "\n",
      " [[0 1]\n",
      "  [0 1]\n",
      "  [0 1]\n",
      "  [1 1]\n",
      "  [0 0]\n",
      "  [1 0]\n",
      "  [1 1]\n",
      "  [1 1]\n",
      "  [0 0]]\n",
      "\n",
      " [[1 1]\n",
      "  [1 1]\n",
      "  [1 1]\n",
      "  [1 1]\n",
      "  [1 0]\n",
      "  [0 0]\n",
      "  [0 1]\n",
      "  [1 1]\n",
      "  [1 0]]\n",
      "\n",
      " [[1 1]\n",
      "  [1 1]\n",
      "  [1 0]\n",
      "  [1 1]\n",
      "  [1 1]\n",
      "  [0 1]\n",
      "  [0 0]\n",
      "  [1 1]\n",
      "  [1 1]]\n",
      "\n",
      " [[1 0]\n",
      "  [1 0]\n",
      "  [1 1]\n",
      "  [0 0]\n",
      "  [1 1]\n",
      "  [1 1]\n",
      "  [1 1]\n",
      "  [0 0]\n",
      "  [1 1]]\n",
      "\n",
      " [[0 1]\n",
      "  [0 1]\n",
      "  [0 1]\n",
      "  [1 1]\n",
      "  [0 0]\n",
      "  [1 0]\n",
      "  [1 1]\n",
      "  [1 1]\n",
      "  [0 0]]]\n",
      "[[0 0 1 1 1 2 2 1 1]\n",
      " [0 0 1 1 1 2 2 1 1]\n",
      " [1 1 0 2 1 2 1 2 1]\n",
      " [1 1 2 0 2 2 2 0 2]\n",
      " [1 1 1 2 0 1 2 2 0]\n",
      " [2 2 2 2 1 0 1 2 1]\n",
      " [2 2 1 2 2 1 0 2 2]\n",
      " [1 1 2 0 2 2 2 0 2]\n",
      " [1 1 1 2 0 1 2 2 0]]\n"
     ]
    }
   ],
   "source": [
    "xmi = np.array([data[i:i+m] for i in range(len(data)-m+1)])\n",
    "z = len(xmi)\n",
    "print(xmi)\n",
    "print('---------')\n",
    "#create 3d array of xmi vectors where each xi in xmi is its own 1xm subarray\n",
    "xi_matrix = np.stack([xmi], axis=2).reshape((z,1,m))\n",
    "\n",
    "#dif is a 3D array containing the pairwise kronecker delta between xi and xmi for all xi.\n",
    "dif = np.invert(xi_matrix==xmi).astype(int)\n",
    "print(dif)\n",
    "#dif.sum(axis=2) evaluates to 0 for xi that fully matched and >0 for xi that did not fully match\n",
    "sim_dist = dif.sum(axis=2)\n",
    "print(sim_dist)"
   ]
  },
  {
   "cell_type": "code",
   "execution_count": 54,
   "id": "2ad1a78d",
   "metadata": {},
   "outputs": [
    {
     "data": {
      "text/plain": [
       "4"
      ]
     },
     "execution_count": 54,
     "metadata": {},
     "output_type": "execute_result"
    }
   ],
   "source": [
    "np.sum(sim_dist[:-1,:]==0) - z"
   ]
  },
  {
   "cell_type": "code",
   "execution_count": 38,
   "id": "921f6046",
   "metadata": {},
   "outputs": [
    {
     "name": "stdout",
     "output_type": "stream",
     "text": [
      "N-m 8\n",
      "Bi 8 Ai 8\n",
      "True\n"
     ]
    }
   ],
   "source": [
    "N = len(data)\n",
    "Bi = vector_matches(data[:-1], m, enttype='apen')\n",
    "k=m+1\n",
    "Ai = vector_matches(data, k, enttype='apen')\n",
    "print('N-m', N-m)\n",
    "print('Bi', len(Bi), 'Ai', len(Ai))\n",
    "print(Bi.shape == Ai.shape)\n",
    "apen = np.sum(np.negative(np.log(Ai/Bi)))/(N-m)"
   ]
  },
  {
   "cell_type": "code",
   "execution_count": 40,
   "id": "45f7d08e",
   "metadata": {},
   "outputs": [
    {
     "data": {
      "text/plain": [
       "array([2, 2, 1, 2, 1, 1, 1, 2])"
      ]
     },
     "execution_count": 40,
     "metadata": {},
     "output_type": "execute_result"
    }
   ],
   "source": [
    "Bi"
   ]
  },
  {
   "cell_type": "code",
   "execution_count": 39,
   "id": "bc210613",
   "metadata": {},
   "outputs": [
    {
     "data": {
      "text/plain": [
       "array([1, 1, 1, 2, 1, 1, 1, 2])"
      ]
     },
     "execution_count": 39,
     "metadata": {},
     "output_type": "execute_result"
    }
   ],
   "source": [
    "Ai"
   ]
  },
  {
   "cell_type": "code",
   "execution_count": 41,
   "id": "456d3f11",
   "metadata": {},
   "outputs": [
    {
     "data": {
      "text/plain": [
       "array([0.5, 0.5, 1. , 1. , 1. , 1. , 1. , 1. ])"
      ]
     },
     "execution_count": 41,
     "metadata": {},
     "output_type": "execute_result"
    }
   ],
   "source": [
    "Ai/Bi"
   ]
  },
  {
   "cell_type": "code",
   "execution_count": 42,
   "id": "ddcd9db4",
   "metadata": {},
   "outputs": [
    {
     "data": {
      "text/plain": [
       "array([-0.69314718, -0.69314718,  0.        ,  0.        ,  0.        ,\n",
       "        0.        ,  0.        ,  0.        ])"
      ]
     },
     "execution_count": 42,
     "metadata": {},
     "output_type": "execute_result"
    }
   ],
   "source": [
    "np.log(Ai/Bi)"
   ]
  },
  {
   "cell_type": "code",
   "execution_count": 43,
   "id": "115faab6",
   "metadata": {},
   "outputs": [
    {
     "data": {
      "text/plain": [
       "1.3862943611198906"
      ]
     },
     "execution_count": 43,
     "metadata": {},
     "output_type": "execute_result"
    }
   ],
   "source": [
    "np.sum(np.negative(np.log(Ai/Bi)))"
   ]
  },
  {
   "cell_type": "code",
   "execution_count": 45,
   "id": "c4f43b54",
   "metadata": {},
   "outputs": [
    {
     "data": {
      "text/plain": [
       "0.17328679513998632"
      ]
     },
     "execution_count": 45,
     "metadata": {},
     "output_type": "execute_result"
    }
   ],
   "source": [
    "np.sum(np.negative(np.log(Ai/Bi)))/(N-m)"
   ]
  },
  {
   "cell_type": "code",
   "execution_count": 46,
   "id": "bd2f5bdc",
   "metadata": {
    "scrolled": true
   },
   "outputs": [
    {
     "data": {
      "text/plain": [
       "0.17328679513998632"
      ]
     },
     "execution_count": 46,
     "metadata": {},
     "output_type": "execute_result"
    }
   ],
   "source": [
    "apen"
   ]
  },
  {
   "cell_type": "code",
   "execution_count": 51,
   "id": "8ab8f00e",
   "metadata": {},
   "outputs": [],
   "source": [
    "B = vector_matches(data[:-1], m, enttype='sampen')\n",
    "#print(B)\n",
    "\n",
    "#get number of matches, store in variable 'A'\n",
    "k = m+1\n",
    "A = vector_matches(data, k, enttype='sampen')"
   ]
  },
  {
   "cell_type": "code",
   "execution_count": 52,
   "id": "81786d64",
   "metadata": {
    "scrolled": true
   },
   "outputs": [
    {
     "data": {
      "text/plain": [
       "4"
      ]
     },
     "execution_count": 52,
     "metadata": {},
     "output_type": "execute_result"
    }
   ],
   "source": [
    "B"
   ]
  },
  {
   "cell_type": "code",
   "execution_count": 53,
   "id": "9f0cb1c0",
   "metadata": {},
   "outputs": [
    {
     "data": {
      "text/plain": [
       "2"
      ]
     },
     "execution_count": 53,
     "metadata": {},
     "output_type": "execute_result"
    }
   ],
   "source": [
    "A"
   ]
  }
 ],
 "metadata": {
  "kernelspec": {
   "display_name": "Python 3",
   "language": "python",
   "name": "python3"
  },
  "language_info": {
   "codemirror_mode": {
    "name": "ipython",
    "version": 3
   },
   "file_extension": ".py",
   "mimetype": "text/x-python",
   "name": "python",
   "nbconvert_exporter": "python",
   "pygments_lexer": "ipython3",
   "version": "3.8.8"
  }
 },
 "nbformat": 4,
 "nbformat_minor": 5
}
